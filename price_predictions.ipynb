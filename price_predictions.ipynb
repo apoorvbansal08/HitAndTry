{
 "cells": [
  {
   "cell_type": "code",
   "execution_count": null,
   "metadata": {
    "collapsed": true
   },
   "outputs": [],
   "source": [
    "import numpy as np\n",
    "import pandas as pd\n",
    "from sklearn.model_selection import train_test_split\n",
    "from sklearn.svm import SVR"
   ]
  },
  {
   "cell_type": "code",
   "execution_count": 2,
   "metadata": {
    "collapsed": true
   },
   "outputs": [],
   "source": [
    "# Constants\n",
    "TRAIN_FILE = \"train.csv\"\n",
    "DELIMITER = \",\"\n",
    "# Number of distinct values in a column below which we treat it as a categorical column\n",
    "CATEGORICAL_THRESHOLD = 30\n",
    "CATEGORY_DTYPE = 'category'\n",
    "HOUSE_ID = 'Id'\n",
    "SALE_PRICE = 'SalePrice'"
   ]
  },
  {
   "cell_type": "code",
   "execution_count": 3,
   "metadata": {
    "collapsed": false
   },
   "outputs": [],
   "source": [
    "# Read data from train file\n",
    "train_df = pd.read_csv(TRAIN_FILE, DELIMITER)\n",
    "# Retain house ids\n",
    "ids = train_df[HOUSE_ID]\n",
    "# Retain sale-prices\n",
    "prices = train_df[SALE_PRICE]"
   ]
  },
  {
   "cell_type": "code",
   "execution_count": 4,
   "metadata": {
    "collapsed": false
   },
   "outputs": [],
   "source": [
    "# Get all columns that have less than a set threshold number of distinct values\n",
    "CATEGORICAL_COLUMNS = train_df.T[train_df.apply(pd.Series.nunique) < CATEGORICAL_THRESHOLD].T.columns"
   ]
  },
  {
   "cell_type": "code",
   "execution_count": 5,
   "metadata": {
    "collapsed": false
   },
   "outputs": [],
   "source": [
    "# Convert all identified categorical columns to dtype: category\n",
    "for cat in CATEGORICAL_COLUMNS:\n",
    "    train_df[cat] = train_df[cat].astype(CATEGORY_DTYPE)"
   ]
  },
  {
   "cell_type": "code",
   "execution_count": 6,
   "metadata": {
    "collapsed": false
   },
   "outputs": [],
   "source": [
    "# Convert values of each categorical column to a numeric-category\n",
    "train_df[CATEGORICAL_COLUMNS] = train_df[CATEGORICAL_COLUMNS].apply(lambda x: x.cat.codes)"
   ]
  },
  {
   "cell_type": "code",
   "execution_count": 15,
   "metadata": {
    "collapsed": false
   },
   "outputs": [],
   "source": [
    "# Normalize resulting data-frame\n",
    "train_df = (train_df - train_df.mean()) / (train_df.max() - train_df.min())\n",
    "# Restore retained columns\n",
    "train_df[HOUSE_ID] = ids\n",
    "train_df[SALE_PRICE] = prices\n",
    "# Replace NaN values by mean of each column\n",
    "train_df = train_df.fillna(train_df.mean())"
   ]
  },
  {
   "cell_type": "code",
   "execution_count": 46,
   "metadata": {
    "collapsed": false
   },
   "outputs": [],
   "source": [
    "# Split data into train and test sets (70-30)\n",
    "X, Y = train_df.ix[:, 1:-1], train_df.ix[:, -1]\n",
    "X_train, X_test, y_train, y_test = train_test_split(X, Y, test_size=0.3, random_state=0)"
   ]
  },
  {
   "cell_type": "code",
   "execution_count": 66,
   "metadata": {
    "collapsed": false
   },
   "outputs": [],
   "source": [
    "# Train Support Vector Machine\n",
    "clf = SVR(C=100.0, epsilon=0.2)\n",
    "clf = clf.fit(X_train, y_train)"
   ]
  },
  {
   "cell_type": "code",
   "execution_count": 67,
   "metadata": {
    "collapsed": false
   },
   "outputs": [
    {
     "data": {
      "text/plain": [
       "-0.018644874325486338"
      ]
     },
     "execution_count": 67,
     "metadata": {},
     "output_type": "execute_result"
    }
   ],
   "source": [
    "# Get R^2 score\n",
    "clf.score(X_test, y_test)"
   ]
  },
  {
   "cell_type": "code",
   "execution_count": null,
   "metadata": {
    "collapsed": true
   },
   "outputs": [],
   "source": []
  }
 ],
 "metadata": {
  "kernelspec": {
   "display_name": "Python 2",
   "language": "python",
   "name": "python2"
  },
  "language_info": {
   "codemirror_mode": {
    "name": "ipython",
    "version": 2
   },
   "file_extension": ".py",
   "mimetype": "text/x-python",
   "name": "python",
   "nbconvert_exporter": "python",
   "pygments_lexer": "ipython2",
   "version": "2.7.11"
  }
 },
 "nbformat": 4,
 "nbformat_minor": 0
}
